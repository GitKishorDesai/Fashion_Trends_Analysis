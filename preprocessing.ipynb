{
 "cells": [
  {
   "cell_type": "code",
   "execution_count": 21,
   "metadata": {},
   "outputs": [],
   "source": [
    "import numpy as np\n",
    "import pandas as pd"
   ]
  },
  {
   "cell_type": "code",
   "execution_count": 22,
   "metadata": {},
   "outputs": [],
   "source": [
    "df = pd.read_csv('./Data.csv')"
   ]
  },
  {
   "cell_type": "code",
   "execution_count": 23,
   "metadata": {},
   "outputs": [
    {
     "data": {
      "text/plain": [
       "(31581, 9)"
      ]
     },
     "execution_count": 23,
     "metadata": {},
     "output_type": "execute_result"
    }
   ],
   "source": [
    "df.shape"
   ]
  },
  {
   "cell_type": "code",
   "execution_count": 24,
   "metadata": {},
   "outputs": [
    {
     "data": {
      "application/vnd.microsoft.datawrangler.viewer.v0+json": {
       "columns": [
        {
         "name": "index",
         "rawType": "int64",
         "type": "integer"
        },
        {
         "name": "Brand",
         "rawType": "object",
         "type": "string"
        },
        {
         "name": "Description",
         "rawType": "object",
         "type": "string"
        },
        {
         "name": "Image_URL",
         "rawType": "object",
         "type": "string"
        },
        {
         "name": "Product_ID",
         "rawType": "float64",
         "type": "float"
        },
        {
         "name": "Discount_Price (in Rs.)",
         "rawType": "object",
         "type": "string"
        },
        {
         "name": "Original_Price (in Rs.)",
         "rawType": "object",
         "type": "string"
        },
        {
         "name": "Product_URL",
         "rawType": "object",
         "type": "string"
        },
        {
         "name": "Category_by_gender",
         "rawType": "object",
         "type": "string"
        },
        {
         "name": "Category",
         "rawType": "object",
         "type": "string"
        }
       ],
       "conversionMethod": "pd.DataFrame",
       "ref": "0847e2ea-084c-4fc1-9600-097c46feb78b",
       "rows": [
        [
         "9063",
         "teamspirit",
         "Striped Henley-Neck Jacquard T-shirt",
         "https://assets.ajio.com/medias/sys_master/root/20220217/r0AS/620d4b60aeb26921af9b98d9/-286Wx359H-441136492-navy-MODEL.jpg",
         "441136000000.0",
         "671",
         "799",
         "https://trends.ajio.com/teamspirit-striped-henley-neck-jacquard-t-shirt/p/441136492_navy",
         "Men",
         "Topwear"
        ],
        [
         "5539",
         "lee-cooper",
         "Panelled Toe-Ring Slip-On Sandals",
         "https://assets.ajio.com/medias/sys_master/root/20220601/FWyf/62971ba5aeb26921af02dc49/-286Wx359H-450149148-brown-MODEL.jpg",
         "450149000000.0",
         "2,199",
         "2,199",
         "https://trends.ajio.com/lee-cooper-panelled-toe-ring-slip-on-sandals/p/450149148_brown",
         "Men",
         "Footwear"
        ]
       ],
       "shape": {
        "columns": 9,
        "rows": 2
       }
      },
      "text/html": [
       "<div>\n",
       "<style scoped>\n",
       "    .dataframe tbody tr th:only-of-type {\n",
       "        vertical-align: middle;\n",
       "    }\n",
       "\n",
       "    .dataframe tbody tr th {\n",
       "        vertical-align: top;\n",
       "    }\n",
       "\n",
       "    .dataframe thead th {\n",
       "        text-align: right;\n",
       "    }\n",
       "</style>\n",
       "<table border=\"1\" class=\"dataframe\">\n",
       "  <thead>\n",
       "    <tr style=\"text-align: right;\">\n",
       "      <th></th>\n",
       "      <th>Brand</th>\n",
       "      <th>Description</th>\n",
       "      <th>Image_URL</th>\n",
       "      <th>Product_ID</th>\n",
       "      <th>Discount_Price (in Rs.)</th>\n",
       "      <th>Original_Price (in Rs.)</th>\n",
       "      <th>Product_URL</th>\n",
       "      <th>Category_by_gender</th>\n",
       "      <th>Category</th>\n",
       "    </tr>\n",
       "  </thead>\n",
       "  <tbody>\n",
       "    <tr>\n",
       "      <th>9063</th>\n",
       "      <td>teamspirit</td>\n",
       "      <td>Striped Henley-Neck Jacquard T-shirt</td>\n",
       "      <td>https://assets.ajio.com/medias/sys_master/root...</td>\n",
       "      <td>4.411360e+11</td>\n",
       "      <td>671</td>\n",
       "      <td>799</td>\n",
       "      <td>https://trends.ajio.com/teamspirit-striped-hen...</td>\n",
       "      <td>Men</td>\n",
       "      <td>Topwear</td>\n",
       "    </tr>\n",
       "    <tr>\n",
       "      <th>5539</th>\n",
       "      <td>lee-cooper</td>\n",
       "      <td>Panelled Toe-Ring Slip-On Sandals</td>\n",
       "      <td>https://assets.ajio.com/medias/sys_master/root...</td>\n",
       "      <td>4.501490e+11</td>\n",
       "      <td>2,199</td>\n",
       "      <td>2,199</td>\n",
       "      <td>https://trends.ajio.com/lee-cooper-panelled-to...</td>\n",
       "      <td>Men</td>\n",
       "      <td>Footwear</td>\n",
       "    </tr>\n",
       "  </tbody>\n",
       "</table>\n",
       "</div>"
      ],
      "text/plain": [
       "           Brand                           Description  \\\n",
       "9063  teamspirit  Striped Henley-Neck Jacquard T-shirt   \n",
       "5539  lee-cooper     Panelled Toe-Ring Slip-On Sandals   \n",
       "\n",
       "                                              Image_URL    Product_ID  \\\n",
       "9063  https://assets.ajio.com/medias/sys_master/root...  4.411360e+11   \n",
       "5539  https://assets.ajio.com/medias/sys_master/root...  4.501490e+11   \n",
       "\n",
       "     Discount_Price (in Rs.) Original_Price (in Rs.)  \\\n",
       "9063                     671                     799   \n",
       "5539                   2,199                   2,199   \n",
       "\n",
       "                                            Product_URL Category_by_gender  \\\n",
       "9063  https://trends.ajio.com/teamspirit-striped-hen...                Men   \n",
       "5539  https://trends.ajio.com/lee-cooper-panelled-to...                Men   \n",
       "\n",
       "      Category  \n",
       "9063   Topwear  \n",
       "5539  Footwear  "
      ]
     },
     "execution_count": 24,
     "metadata": {},
     "output_type": "execute_result"
    }
   ],
   "source": [
    "df.sample(2)"
   ]
  },
  {
   "cell_type": "code",
   "execution_count": 25,
   "metadata": {},
   "outputs": [
    {
     "data": {
      "text/plain": [
       "Index(['Brand', 'Description', 'Image_URL', 'Product_ID',\n",
       "       'Discount_Price (in Rs.)', 'Original_Price (in Rs.)', 'Product_URL',\n",
       "       'Category_by_gender', 'Category'],\n",
       "      dtype='object')"
      ]
     },
     "execution_count": 25,
     "metadata": {},
     "output_type": "execute_result"
    }
   ],
   "source": [
    "df.columns"
   ]
  },
  {
   "cell_type": "code",
   "execution_count": 26,
   "metadata": {},
   "outputs": [],
   "source": [
    "df.drop(columns={'Image_URL','Product_ID','Product_URL'},inplace=True)"
   ]
  },
  {
   "cell_type": "code",
   "execution_count": 27,
   "metadata": {},
   "outputs": [
    {
     "data": {
      "application/vnd.microsoft.datawrangler.viewer.v0+json": {
       "columns": [
        {
         "name": "index",
         "rawType": "int64",
         "type": "integer"
        },
        {
         "name": "Brand",
         "rawType": "object",
         "type": "string"
        },
        {
         "name": "Description",
         "rawType": "object",
         "type": "string"
        },
        {
         "name": "Discount_Price (in Rs.)",
         "rawType": "object",
         "type": "string"
        },
        {
         "name": "Original_Price (in Rs.)",
         "rawType": "object",
         "type": "string"
        },
        {
         "name": "Category_by_gender",
         "rawType": "object",
         "type": "string"
        },
        {
         "name": "Category",
         "rawType": "object",
         "type": "string"
        }
       ],
       "conversionMethod": "pd.DataFrame",
       "ref": "eb180e33-da4f-45f3-b230-e4b7a1e92eb8",
       "rows": [
        [
         "10757",
         "dnmx",
         "Graphic Print Crew-Neck T-shirt",
         "120",
         "399",
         "Men",
         "Topwear"
        ],
        [
         "6174",
         "christofano",
         "Lace-Up Casual Shoes with Placement Print",
         "1,439",
         "1,799",
         "Men",
         "Footwear"
        ]
       ],
       "shape": {
        "columns": 6,
        "rows": 2
       }
      },
      "text/html": [
       "<div>\n",
       "<style scoped>\n",
       "    .dataframe tbody tr th:only-of-type {\n",
       "        vertical-align: middle;\n",
       "    }\n",
       "\n",
       "    .dataframe tbody tr th {\n",
       "        vertical-align: top;\n",
       "    }\n",
       "\n",
       "    .dataframe thead th {\n",
       "        text-align: right;\n",
       "    }\n",
       "</style>\n",
       "<table border=\"1\" class=\"dataframe\">\n",
       "  <thead>\n",
       "    <tr style=\"text-align: right;\">\n",
       "      <th></th>\n",
       "      <th>Brand</th>\n",
       "      <th>Description</th>\n",
       "      <th>Discount_Price (in Rs.)</th>\n",
       "      <th>Original_Price (in Rs.)</th>\n",
       "      <th>Category_by_gender</th>\n",
       "      <th>Category</th>\n",
       "    </tr>\n",
       "  </thead>\n",
       "  <tbody>\n",
       "    <tr>\n",
       "      <th>10757</th>\n",
       "      <td>dnmx</td>\n",
       "      <td>Graphic Print Crew-Neck T-shirt</td>\n",
       "      <td>120</td>\n",
       "      <td>399</td>\n",
       "      <td>Men</td>\n",
       "      <td>Topwear</td>\n",
       "    </tr>\n",
       "    <tr>\n",
       "      <th>6174</th>\n",
       "      <td>christofano</td>\n",
       "      <td>Lace-Up Casual Shoes with Placement Print</td>\n",
       "      <td>1,439</td>\n",
       "      <td>1,799</td>\n",
       "      <td>Men</td>\n",
       "      <td>Footwear</td>\n",
       "    </tr>\n",
       "  </tbody>\n",
       "</table>\n",
       "</div>"
      ],
      "text/plain": [
       "             Brand                                Description  \\\n",
       "10757         dnmx            Graphic Print Crew-Neck T-shirt   \n",
       "6174   christofano  Lace-Up Casual Shoes with Placement Print   \n",
       "\n",
       "      Discount_Price (in Rs.) Original_Price (in Rs.) Category_by_gender  \\\n",
       "10757                     120                     399                Men   \n",
       "6174                    1,439                   1,799                Men   \n",
       "\n",
       "       Category  \n",
       "10757   Topwear  \n",
       "6174   Footwear  "
      ]
     },
     "execution_count": 27,
     "metadata": {},
     "output_type": "execute_result"
    }
   ],
   "source": [
    "df.sample(2)"
   ]
  },
  {
   "cell_type": "code",
   "execution_count": 28,
   "metadata": {},
   "outputs": [],
   "source": [
    "df.rename(columns={'Original_Price (in Rs.)':'MRP','Discount_Price (in Rs.)':'Selling_Price'},inplace=True)"
   ]
  },
  {
   "cell_type": "code",
   "execution_count": 29,
   "metadata": {},
   "outputs": [
    {
     "data": {
      "application/vnd.microsoft.datawrangler.viewer.v0+json": {
       "columns": [
        {
         "name": "index",
         "rawType": "int64",
         "type": "integer"
        },
        {
         "name": "Brand",
         "rawType": "object",
         "type": "string"
        },
        {
         "name": "Description",
         "rawType": "object",
         "type": "string"
        },
        {
         "name": "Selling_Price",
         "rawType": "object",
         "type": "string"
        },
        {
         "name": "MRP",
         "rawType": "object",
         "type": "string"
        },
        {
         "name": "Category_by_gender",
         "rawType": "object",
         "type": "string"
        },
        {
         "name": "Category",
         "rawType": "object",
         "type": "string"
        }
       ],
       "conversionMethod": "pd.DataFrame",
       "ref": "37dd9f56-c5a1-421d-9637-079849b022d0",
       "rows": [
        [
         "30954",
         "other-characters",
         "Snoopy Print Joggers with Insert Pockets",
         "699",
         "699",
         "Women",
         "Westernwear"
        ],
        [
         "23166",
         "hi-attitude",
         "Strappy Block Heels with Buckle Fastening",
         "1,299",
         "1,299",
         "Women",
         "Footwear"
        ]
       ],
       "shape": {
        "columns": 6,
        "rows": 2
       }
      },
      "text/html": [
       "<div>\n",
       "<style scoped>\n",
       "    .dataframe tbody tr th:only-of-type {\n",
       "        vertical-align: middle;\n",
       "    }\n",
       "\n",
       "    .dataframe tbody tr th {\n",
       "        vertical-align: top;\n",
       "    }\n",
       "\n",
       "    .dataframe thead th {\n",
       "        text-align: right;\n",
       "    }\n",
       "</style>\n",
       "<table border=\"1\" class=\"dataframe\">\n",
       "  <thead>\n",
       "    <tr style=\"text-align: right;\">\n",
       "      <th></th>\n",
       "      <th>Brand</th>\n",
       "      <th>Description</th>\n",
       "      <th>Selling_Price</th>\n",
       "      <th>MRP</th>\n",
       "      <th>Category_by_gender</th>\n",
       "      <th>Category</th>\n",
       "    </tr>\n",
       "  </thead>\n",
       "  <tbody>\n",
       "    <tr>\n",
       "      <th>30954</th>\n",
       "      <td>other-characters</td>\n",
       "      <td>Snoopy Print Joggers with Insert Pockets</td>\n",
       "      <td>699</td>\n",
       "      <td>699</td>\n",
       "      <td>Women</td>\n",
       "      <td>Westernwear</td>\n",
       "    </tr>\n",
       "    <tr>\n",
       "      <th>23166</th>\n",
       "      <td>hi-attitude</td>\n",
       "      <td>Strappy Block Heels with Buckle Fastening</td>\n",
       "      <td>1,299</td>\n",
       "      <td>1,299</td>\n",
       "      <td>Women</td>\n",
       "      <td>Footwear</td>\n",
       "    </tr>\n",
       "  </tbody>\n",
       "</table>\n",
       "</div>"
      ],
      "text/plain": [
       "                  Brand                                Description  \\\n",
       "30954  other-characters   Snoopy Print Joggers with Insert Pockets   \n",
       "23166       hi-attitude  Strappy Block Heels with Buckle Fastening   \n",
       "\n",
       "      Selling_Price    MRP Category_by_gender     Category  \n",
       "30954           699    699              Women  Westernwear  \n",
       "23166         1,299  1,299              Women     Footwear  "
      ]
     },
     "execution_count": 29,
     "metadata": {},
     "output_type": "execute_result"
    }
   ],
   "source": [
    "df.sample(2)"
   ]
  },
  {
   "cell_type": "code",
   "execution_count": 30,
   "metadata": {},
   "outputs": [],
   "source": [
    "def convert_currency_to_int(entry):\n",
    "    if \",\" in entry:\n",
    "        return int(''.join(entry.split(\",\")))\n",
    "    return int(entry)\n"
   ]
  },
  {
   "cell_type": "code",
   "execution_count": 31,
   "metadata": {},
   "outputs": [],
   "source": [
    "for col in ['MRP','Selling_Price']:\n",
    "    df[col]=df[col].apply(convert_currency_to_int)"
   ]
  },
  {
   "cell_type": "code",
   "execution_count": 32,
   "metadata": {},
   "outputs": [],
   "source": [
    "df['Discount'] = df['MRP'] - df['Selling_Price']\n",
    "df['Discount_%'] = round(((df['Discount']/df['MRP'])*100))"
   ]
  },
  {
   "cell_type": "code",
   "execution_count": 33,
   "metadata": {},
   "outputs": [
    {
     "data": {
      "application/vnd.microsoft.datawrangler.viewer.v0+json": {
       "columns": [
        {
         "name": "index",
         "rawType": "int64",
         "type": "integer"
        },
        {
         "name": "Brand",
         "rawType": "object",
         "type": "string"
        },
        {
         "name": "Description",
         "rawType": "object",
         "type": "string"
        },
        {
         "name": "Selling_Price",
         "rawType": "int64",
         "type": "integer"
        },
        {
         "name": "MRP",
         "rawType": "int64",
         "type": "integer"
        },
        {
         "name": "Category_by_gender",
         "rawType": "object",
         "type": "string"
        },
        {
         "name": "Category",
         "rawType": "object",
         "type": "string"
        },
        {
         "name": "Discount",
         "rawType": "int64",
         "type": "integer"
        },
        {
         "name": "Discount_%",
         "rawType": "float64",
         "type": "float"
        }
       ],
       "conversionMethod": "pd.DataFrame",
       "ref": "9e8c230a-2635-4b85-ab7c-e77cbedf11b7",
       "rows": [
        [
         "12674",
         "duke",
         "Striped Slim Fit Polo T-shirt",
         "941",
         "1045",
         "Men",
         "Topwear",
         "104",
         "10.0"
        ],
        [
         "22356",
         "frisbee",
         "Shimmery Strap Slides",
         "499",
         "499",
         "Women",
         "Footwear",
         "0",
         "0.0"
        ]
       ],
       "shape": {
        "columns": 8,
        "rows": 2
       }
      },
      "text/html": [
       "<div>\n",
       "<style scoped>\n",
       "    .dataframe tbody tr th:only-of-type {\n",
       "        vertical-align: middle;\n",
       "    }\n",
       "\n",
       "    .dataframe tbody tr th {\n",
       "        vertical-align: top;\n",
       "    }\n",
       "\n",
       "    .dataframe thead th {\n",
       "        text-align: right;\n",
       "    }\n",
       "</style>\n",
       "<table border=\"1\" class=\"dataframe\">\n",
       "  <thead>\n",
       "    <tr style=\"text-align: right;\">\n",
       "      <th></th>\n",
       "      <th>Brand</th>\n",
       "      <th>Description</th>\n",
       "      <th>Selling_Price</th>\n",
       "      <th>MRP</th>\n",
       "      <th>Category_by_gender</th>\n",
       "      <th>Category</th>\n",
       "      <th>Discount</th>\n",
       "      <th>Discount_%</th>\n",
       "    </tr>\n",
       "  </thead>\n",
       "  <tbody>\n",
       "    <tr>\n",
       "      <th>12674</th>\n",
       "      <td>duke</td>\n",
       "      <td>Striped Slim Fit Polo T-shirt</td>\n",
       "      <td>941</td>\n",
       "      <td>1045</td>\n",
       "      <td>Men</td>\n",
       "      <td>Topwear</td>\n",
       "      <td>104</td>\n",
       "      <td>10.0</td>\n",
       "    </tr>\n",
       "    <tr>\n",
       "      <th>22356</th>\n",
       "      <td>frisbee</td>\n",
       "      <td>Shimmery Strap Slides</td>\n",
       "      <td>499</td>\n",
       "      <td>499</td>\n",
       "      <td>Women</td>\n",
       "      <td>Footwear</td>\n",
       "      <td>0</td>\n",
       "      <td>0.0</td>\n",
       "    </tr>\n",
       "  </tbody>\n",
       "</table>\n",
       "</div>"
      ],
      "text/plain": [
       "         Brand                    Description  Selling_Price   MRP  \\\n",
       "12674     duke  Striped Slim Fit Polo T-shirt            941  1045   \n",
       "22356  frisbee          Shimmery Strap Slides            499   499   \n",
       "\n",
       "      Category_by_gender  Category  Discount  Discount_%  \n",
       "12674                Men   Topwear       104        10.0  \n",
       "22356              Women  Footwear         0         0.0  "
      ]
     },
     "execution_count": 33,
     "metadata": {},
     "output_type": "execute_result"
    }
   ],
   "source": [
    "df.sample(2)"
   ]
  },
  {
   "cell_type": "code",
   "execution_count": 34,
   "metadata": {},
   "outputs": [],
   "source": [
    "df.rename(columns={'Category':'Category_By_Attire','Category_by_gender':'Category_By_Gender'},inplace=True)"
   ]
  },
  {
   "cell_type": "code",
   "execution_count": 35,
   "metadata": {},
   "outputs": [
    {
     "data": {
      "application/vnd.microsoft.datawrangler.viewer.v0+json": {
       "columns": [
        {
         "name": "index",
         "rawType": "int64",
         "type": "integer"
        },
        {
         "name": "Brand",
         "rawType": "object",
         "type": "string"
        },
        {
         "name": "Description",
         "rawType": "object",
         "type": "string"
        },
        {
         "name": "Selling_Price",
         "rawType": "int64",
         "type": "integer"
        },
        {
         "name": "MRP",
         "rawType": "int64",
         "type": "integer"
        },
        {
         "name": "Category_By_Gender",
         "rawType": "object",
         "type": "string"
        },
        {
         "name": "Category_By_Attire",
         "rawType": "object",
         "type": "string"
        },
        {
         "name": "Discount",
         "rawType": "int64",
         "type": "integer"
        },
        {
         "name": "Discount_%",
         "rawType": "float64",
         "type": "float"
        }
       ],
       "conversionMethod": "pd.DataFrame",
       "ref": "5f22bfde-31ff-4c69-95de-15113dadd1ab",
       "rows": [
        [
         "30382",
         "aero-jeans-womens",
         "Textured Sweater with Ribbed Hem",
         "2199",
         "2199",
         "Women",
         "Westernwear",
         "0",
         "0.0"
        ],
        [
         "12655",
         "duke",
         "Printed Slim Fit Polo T-shirt",
         "744",
         "1145",
         "Men",
         "Topwear",
         "401",
         "35.0"
        ]
       ],
       "shape": {
        "columns": 8,
        "rows": 2
       }
      },
      "text/html": [
       "<div>\n",
       "<style scoped>\n",
       "    .dataframe tbody tr th:only-of-type {\n",
       "        vertical-align: middle;\n",
       "    }\n",
       "\n",
       "    .dataframe tbody tr th {\n",
       "        vertical-align: top;\n",
       "    }\n",
       "\n",
       "    .dataframe thead th {\n",
       "        text-align: right;\n",
       "    }\n",
       "</style>\n",
       "<table border=\"1\" class=\"dataframe\">\n",
       "  <thead>\n",
       "    <tr style=\"text-align: right;\">\n",
       "      <th></th>\n",
       "      <th>Brand</th>\n",
       "      <th>Description</th>\n",
       "      <th>Selling_Price</th>\n",
       "      <th>MRP</th>\n",
       "      <th>Category_By_Gender</th>\n",
       "      <th>Category_By_Attire</th>\n",
       "      <th>Discount</th>\n",
       "      <th>Discount_%</th>\n",
       "    </tr>\n",
       "  </thead>\n",
       "  <tbody>\n",
       "    <tr>\n",
       "      <th>30382</th>\n",
       "      <td>aero-jeans-womens</td>\n",
       "      <td>Textured Sweater with Ribbed Hem</td>\n",
       "      <td>2199</td>\n",
       "      <td>2199</td>\n",
       "      <td>Women</td>\n",
       "      <td>Westernwear</td>\n",
       "      <td>0</td>\n",
       "      <td>0.0</td>\n",
       "    </tr>\n",
       "    <tr>\n",
       "      <th>12655</th>\n",
       "      <td>duke</td>\n",
       "      <td>Printed Slim Fit Polo T-shirt</td>\n",
       "      <td>744</td>\n",
       "      <td>1145</td>\n",
       "      <td>Men</td>\n",
       "      <td>Topwear</td>\n",
       "      <td>401</td>\n",
       "      <td>35.0</td>\n",
       "    </tr>\n",
       "  </tbody>\n",
       "</table>\n",
       "</div>"
      ],
      "text/plain": [
       "                   Brand                       Description  Selling_Price  \\\n",
       "30382  aero-jeans-womens  Textured Sweater with Ribbed Hem           2199   \n",
       "12655               duke     Printed Slim Fit Polo T-shirt            744   \n",
       "\n",
       "        MRP Category_By_Gender Category_By_Attire  Discount  Discount_%  \n",
       "30382  2199              Women        Westernwear         0         0.0  \n",
       "12655  1145                Men            Topwear       401        35.0  "
      ]
     },
     "execution_count": 35,
     "metadata": {},
     "output_type": "execute_result"
    }
   ],
   "source": [
    "df.sample(2)"
   ]
  },
  {
   "cell_type": "code",
   "execution_count": 36,
   "metadata": {},
   "outputs": [],
   "source": [
    "def get_cloth_category(entry):\n",
    "    entry = entry.lower().strip()\n",
    "\n",
    "    if \"track pant\" in entry or \"trackpant\" in entry or \"track\" in entry:\n",
    "        return \"Track Pant\"\n",
    "    elif \"t-shirt\" in entry or \"tee\" in entry or \"t-\" in entry:\n",
    "        return \"T-Shirt\"\n",
    "    elif \"shoe\" in entry or \"sandal\" in entry or \"loafer\" in entry or \"sneaker\" in entry or \"ballerina\" in entry or \"crocs\" in entry or \"boot\" in entry or \"plimsolls\" in entry or \"brogues\" in entry or \"clogs\" in entry or \"oxford\" in entry or \"pull on\" in entry or \"lace-up\" in entry or \"driver\" in entry or \"ballet\" in entry or \"chunkies\" in entry or \"moccasin\" in entry or \"espradille\" in entry or \"gladiator\" in entry: \n",
    "        return \"Shoes\"\n",
    "    if \"slider\" in entry or \"slipper\" in entry or \"flip-flop\" in entry or \"slip-ons\" in entry or \"wedges\" in entry or \"flip-flip\" in entry or \"slides\" in entry or \"flip flops\" in entry or \"chappal\" in entry or \"thong-strap\" in entry or \"slip-on\" in entry:\n",
    "        return \"Slippers\"\n",
    "    elif \"jogger\" in entry:\n",
    "        return \"Joggers\"\n",
    "    elif \"shorts\" in entry or \"bermuda\" in entry or \"three fourth\" in entry:\n",
    "        return \"Shorts\"\n",
    "    elif \"jacket\" in entry or \"pullover\" in entry or \"hoodie\" in entry or \"sweatshirt\" in entry or \"sweater\" in entry or \"cardigan\" in entry or \"shrug\" in entry or \"gilet\" in entry or \"gillet\" in entry or \"gilltet\" in entry or \"shacket\" in entry or \"blouson\" in entry:\n",
    "        return \"Jacket\"\n",
    "    elif \"cap\" in entry or \"hat\" in entry or \"beanie\" in entry:\n",
    "        return \"Cap\"\n",
    "    elif \"socks\" in entry:\n",
    "        return \"Socks\"\n",
    "    elif \"vest\" in entry:\n",
    "        return \"Vest\"\n",
    "    elif \"jeans\" in entry or \"denim\" in entry:\n",
    "        return \"Jeans\"\n",
    "    elif \"trouser\" in entry or \"pant\" in entry:\n",
    "        return \"Trouser\"\n",
    "    elif \"chino\" in entry:\n",
    "        return \"Chinos\"\n",
    "    elif \"brief\" in entry or \"trunk\" in entry:\n",
    "        return \"Briefs\"\n",
    "    elif \"cargo pant\" in entry:\n",
    "        return \"Cargo Pants\"\n",
    "    elif \"shirt\" in entry:\n",
    "        return \"Shirt\"\n",
    "    elif \"camisole\" in entry:\n",
    "        return \"Camisole\"\n",
    "    if \"bra\" in entry:\n",
    "        return \"Bra\"\n",
    "    if \"panties\" in entry or \"hipster\" in entry or \"bikini\" in entry:\n",
    "        return \"Panties\"\n",
    "    elif \"top\" in entry or \"tunic\" in entry:\n",
    "        return \"Top\"\n",
    "    elif \"legging\" in entry or \"capri\" in entry or \"treggings\" in entry or \"jeggings\" in entry or \"tights\" in entry:\n",
    "        return \"Leggings\"\n",
    "    elif \"palazzo\" in entry or \"culottes\" in entry or \"pallazo\" in entry:\n",
    "        return \"Palazzo\"\n",
    "    elif \"kurta\" in entry or \"kurti\" in entry or \"kirta\" in entry:\n",
    "        return \"Kurta\"\n",
    "    elif \"dupatta\" in entry or \"stole\" in entry:\n",
    "        return \"Dupatta\"\n",
    "    elif \"heel\" in entry or \"mules\" in entry or \"stiletto\" in entry or \"pump\" in entry or \"slingback\" in entry or \"platform\" in entry or \"bow\" in entry:\n",
    "        return \"Heels\"\n",
    "    elif \"dress\" in entry or \"anarkali\" in entry or \"material\" in entry or \"angarakha\" in entry or \"lehanga\" in entry or \"salwar\" in entry or \"churidar\" in entry or \"lehenga\" in entry or \"patiala\" in entry:\n",
    "        return \"Dress\"\n",
    "    elif \"skirt\" in entry:\n",
    "        return \"Skirt\"\n",
    "    elif \"boxer\" in entry:\n",
    "        return \"Boxers\"\n",
    "    elif \"suit\" in entry or \"blazer\" in entry or \"coat\" in entry:\n",
    "        return \"Suit\"\n",
    "    elif \"saree\" in entry:\n",
    "        return \"Saree\"\n",
    "    elif \"jumper\" in entry or \"blouse\" in entry:\n",
    "        return \"Blouse\"\n",
    "    elif \"gown\" in entry or \"poncho\" in entry:\n",
    "        return \"Gown\"\n",
    "    elif \"dungaree\" in entry:\n",
    "        return \"Dungaree\"\n",
    "    else:\n",
    "        return \"Others\""
   ]
  },
  {
   "cell_type": "code",
   "execution_count": 37,
   "metadata": {},
   "outputs": [],
   "source": [
    "df['Category_By_Cloth'] = df['Description'].apply(get_cloth_category)"
   ]
  },
  {
   "cell_type": "code",
   "execution_count": 38,
   "metadata": {},
   "outputs": [],
   "source": [
    "df.drop(columns=['Description'],inplace=True)"
   ]
  },
  {
   "cell_type": "code",
   "execution_count": 39,
   "metadata": {},
   "outputs": [
    {
     "name": "stdout",
     "output_type": "stream",
     "text": [
      "{'performax': 3028, 'teamspirit': 1908, 'dnmx': 1757, 'netplay': 1698, 'avaasa-mix-n-match': 1507, 'john-players': 1224, 'hi-attitude': 1191, 'w': 1179, 'fig': 1110, 'lee-cooper': 927, 'ecko': 849, 'aurelia': 842, 'rio': 753, 'john-players-jeans': 664, 'ajio': 529, 'christofano': 525, 'schumann': 516, 'kraus': 510, 'biba': 485, 'duke': 429, 'frisbee': 418, 'fusion': 399, 'aero-jeans': 336, 'jdy-by-only': 327, 'siyahi': 305, 'anonymous-co': 302, 'iscenery-by-vero-moda': 286, 'sin': 262, 'indian-terrain': 258, 'altheory': 239, 'aero-jeans-womens': 236, 'rangriti': 230, 'recap': 211, 'airwalk': 201, 'produkt-by-jack-jones': 200, 'avaasa-set': 192, 'schumann-premium': 179, 'only-vimal-apparel': 174, 'outryt': 171, 'denizen-from-levis': 161, 'clarks': 152, 'fioni': 148, 'aksk-creation': 144, 'altheory-sport': 143, 'svrnaa': 140, 'inblu': 138, 'proline': 132, 'madame': 128, 'u-s-polo-assn-': 126, 'ceriz': 124, 'denizen-womens': 120, 'killer': 115, 'jockey': 108, 'catwalk': 101, 'enamor': 101, 'uniquest': 99, 'poetic-piyani': 97, 'disney': 86, 'hunters-bay': 82, 'chhabra-555': 81, 'juniper': 80, 'species': 76, 'sanlee': 75, 'crimsoune-club': 74, 'indigo-nation': 74, 'fila': 71, 'duke-women-s': 70, 'ipanema': 70, 'puma': 69, 'nv-bhandar': 67, 'umbro': 65, 'go-colors': 63, 'woodland': 63, 'vivitka': 58, 'swadesh': 57, 'nez': 55, 'cross-trekkers': 51, 'global-step': 49, 'brash': 48, 'kneetoes': 47, 'lee-cooper-women': 44, 'id': 43, 'ecko-unltd': 43, 'dfx': 42, 'montego-bay-club': 40, 'buckaroo': 40, 'first-class': 39, 'warner-brothers': 39, 'red-chief': 39, 'network': 36, 'viviana': 35, 'ashmita': 34, 'labella': 34, 'comfort-plus': 33, 'monte-carlo': 31, 'allen-solly': 30, 'skechers': 24, 'anukta': 24, 'avaasa': 23, 'ftwe': 22, 'namah': 22, 'basics': 22, 'crocs': 22, 'varja': 20, 'vala-s': 20, 'other-characters': 19, 'parx': 16, 'trends': 15, 'attilio': 15, 'outryt-sport': 14, 'ira-soleil': 14, 'disha': 14, 'city-sneaks': 13, 'jashn': 13, 'lower-east-side': 11, 'pepe-jeans': 11, 'rss': 10, 'poshaak': 9, 'teej': 9, 'alberto-torresi': 9, 'dexter': 9, 'gola': 8, 'lag': 8, 'jp-jeans': 8, 'egoss': 8, 'adidas': 7, 'zaxy': 7, 'nirali': 7, 'k-swiss': 7, 'louis-philippe': 7, 'samav': 6, 'lucy-vegona': 6, 'be-indi': 6, 'hushh': 6, 'wildcraft': 5, 'crimsoune-club-women': 4, 'christofano-premium': 4, 'hanes': 4, 'reebok': 4, 'octave': 4, 'chromozome': 4, 'mardi-gras': 3, 'pureza': 3, 'john-players-select': 3, 'mix-fab': 3, 'gaami': 3, 'shakuntalam-s': 3, 'triumph': 3, 'florsheim': 3, 'lotto': 3, 'hunter-s-bay': 3, 'ruosh': 3, 'awd': 3, 'opt': 2, '109-f': 2, 'saucony': 2, 'monza': 2, 'monte-carlo-ladies': 2, 'monte-bianco': 2, 'ayaany': 2, 'onn': 2, 'turtle': 2, 'enamor-sleepwear': 2, 'jealous-21': 2, 'pal-fashions': 2, 'flying-machine-womens': 2, 'graviti': 2, 'oxemberg': 2, 'nizam': 2, 'srm-fashion': 2, 'dmi': 2, 'hiattitude': 2, 'rivaj': 2, 'arrow': 1, 'integriti': 1, 'wrangler': 1, 'classic-polo': 1, 'rimaya': 1, 'valentino': 1, 'nike': 1, 'franco-leone': 1, 'rugged-outback': 1, 'hk-colours-of-fashion': 1, 'urban-style': 1, 'mithi-mirchi': 1, 'jadu': 1, 'jublee': 1, 'monrow': 1, 'bon-bon': 1, 'awb': 1, 'avaasa-workwear': 1}\n"
     ]
    }
   ],
   "source": [
    "dicti = df.Brand.value_counts().to_dict()\n",
    "print(dicti)"
   ]
  },
  {
   "cell_type": "code",
   "execution_count": 40,
   "metadata": {},
   "outputs": [],
   "source": [
    "def replace_brand_name_with_others(entry):\n",
    "    threshold = 50\n",
    "    dictionary = df.Brand.value_counts().to_dict()\n",
    "    if dictionary[entry]<=threshold:\n",
    "        return \"others\"\n",
    "    return entry"
   ]
  },
  {
   "cell_type": "code",
   "execution_count": 41,
   "metadata": {},
   "outputs": [],
   "source": [
    "df['Brand'] = df['Brand'].apply(replace_brand_name_with_others)"
   ]
  },
  {
   "cell_type": "code",
   "execution_count": 42,
   "metadata": {},
   "outputs": [
    {
     "name": "stdout",
     "output_type": "stream",
     "text": [
      "{'performax': 3028, 'teamspirit': 1908, 'dnmx': 1757, 'netplay': 1698, 'avaasa-mix-n-match': 1507, 'others': 1360, 'john-players': 1224, 'hi-attitude': 1191, 'w': 1179, 'fig': 1110, 'lee-cooper': 927, 'ecko': 849, 'aurelia': 842, 'rio': 753, 'john-players-jeans': 664, 'ajio': 529, 'christofano': 525, 'schumann': 516, 'kraus': 510, 'biba': 485, 'duke': 429, 'frisbee': 418, 'fusion': 399, 'aero-jeans': 336, 'jdy-by-only': 327, 'siyahi': 305, 'anonymous-co': 302, 'iscenery-by-vero-moda': 286, 'sin': 262, 'indian-terrain': 258, 'altheory': 239, 'aero-jeans-womens': 236, 'rangriti': 230, 'recap': 211, 'airwalk': 201, 'produkt-by-jack-jones': 200, 'avaasa-set': 192, 'schumann-premium': 179, 'only-vimal-apparel': 174, 'outryt': 171, 'denizen-from-levis': 161, 'clarks': 152, 'fioni': 148, 'aksk-creation': 144, 'altheory-sport': 143, 'svrnaa': 140, 'inblu': 138, 'proline': 132, 'madame': 128, 'u-s-polo-assn-': 126, 'ceriz': 124, 'denizen-womens': 120, 'killer': 115, 'jockey': 108, 'catwalk': 101, 'enamor': 101, 'uniquest': 99, 'poetic-piyani': 97, 'disney': 86, 'hunters-bay': 82, 'chhabra-555': 81, 'juniper': 80, 'species': 76, 'sanlee': 75, 'indigo-nation': 74, 'crimsoune-club': 74, 'fila': 71, 'ipanema': 70, 'duke-women-s': 70, 'puma': 69, 'nv-bhandar': 67, 'umbro': 65, 'go-colors': 63, 'woodland': 63, 'vivitka': 58, 'swadesh': 57, 'nez': 55, 'cross-trekkers': 51}\n"
     ]
    }
   ],
   "source": [
    "dicti = df.Brand.value_counts().to_dict()\n",
    "print(dicti)"
   ]
  },
  {
   "cell_type": "code",
   "execution_count": 43,
   "metadata": {},
   "outputs": [],
   "source": [
    "df.to_excel('./Cleaned_Data.xlsx',index=False)"
   ]
  }
 ],
 "metadata": {
  "kernelspec": {
   "display_name": "Python 3",
   "language": "python",
   "name": "python3"
  },
  "language_info": {
   "codemirror_mode": {
    "name": "ipython",
    "version": 3
   },
   "file_extension": ".py",
   "mimetype": "text/x-python",
   "name": "python",
   "nbconvert_exporter": "python",
   "pygments_lexer": "ipython3",
   "version": "3.12.3"
  }
 },
 "nbformat": 4,
 "nbformat_minor": 2
}
