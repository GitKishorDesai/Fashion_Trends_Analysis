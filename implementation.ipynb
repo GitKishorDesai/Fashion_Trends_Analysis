{
 "cells": [
  {
   "cell_type": "code",
   "execution_count": 1,
   "metadata": {},
   "outputs": [],
   "source": [
    "import pandas as pd\n",
    "import matplotlib.pyplot as plt\n",
    "import seaborn as sns"
   ]
  },
  {
   "cell_type": "code",
   "execution_count": 2,
   "metadata": {},
   "outputs": [],
   "source": [
    "df = pd.read_csv('./Data.csv')"
   ]
  },
  {
   "cell_type": "code",
   "execution_count": 3,
   "metadata": {},
   "outputs": [
    {
     "data": {
      "text/plain": [
       "(31581, 9)"
      ]
     },
     "execution_count": 3,
     "metadata": {},
     "output_type": "execute_result"
    }
   ],
   "source": [
    "df.shape"
   ]
  },
  {
   "cell_type": "code",
   "execution_count": 4,
   "metadata": {},
   "outputs": [
    {
     "data": {
      "application/vnd.microsoft.datawrangler.viewer.v0+json": {
       "columns": [
        {
         "name": "index",
         "rawType": "int64",
         "type": "integer"
        },
        {
         "name": "Brand",
         "rawType": "object",
         "type": "string"
        },
        {
         "name": "Description",
         "rawType": "object",
         "type": "string"
        },
        {
         "name": "Image_URL",
         "rawType": "object",
         "type": "string"
        },
        {
         "name": "Product_ID",
         "rawType": "float64",
         "type": "float"
        },
        {
         "name": "Discount_Price (in Rs.)",
         "rawType": "object",
         "type": "string"
        },
        {
         "name": "Original_Price (in Rs.)",
         "rawType": "object",
         "type": "string"
        },
        {
         "name": "Product_URL",
         "rawType": "object",
         "type": "string"
        },
        {
         "name": "Category_by_gender",
         "rawType": "object",
         "type": "string"
        },
        {
         "name": "Category",
         "rawType": "object",
         "type": "string"
        }
       ],
       "conversionMethod": "pd.DataFrame",
       "ref": "16667d10-4211-452a-9497-681c4226cafd",
       "rows": [
        [
         "10864",
         "john-players",
         "Slim Fit Shirt with Patch Pocket",
         "https://assets.ajio.com/medias/sys_master/root/20211208/3JmJ/61afe23daeb269011001adf5/-286Wx359H-441130305-olive-MODEL.jpg",
         "441130000000.0",
         "525",
         "1,049",
         "https://trends.ajio.com/john-players-slim-fit-shirt-with-patch-pocket/p/441130305_olive",
         "Men",
         "Topwear"
        ],
        [
         "4092",
         "john-players-jeans",
         "Mid-Wash Slim Jeans",
         "https://assets.ajio.com/medias/sys_master/root/20220622/V0Tu/62b32b3df997dd03e2985fe1/-286Wx359H-441138813-indigo-MODEL.jpg",
         "441139000000.0",
         "2,299",
         "2,299",
         "https://trends.ajio.com/john-players-jeans-mid-wash-slim-jeans/p/441138813_indigo",
         "Men",
         "Bottomwear"
        ],
        [
         "29007",
         "performax",
         "Quickdry Running Leggings with Contrast Panel",
         "https://assets.ajio.com/medias/sys_master/root/20220125/5Mul/61eefa2eaeb2695cdd2ad9b0/-286Wx359H-441121488-jetblack-MODEL.jpg",
         "441121000000.0",
         "450",
         "1,499",
         "https://trends.ajio.com/performax-quickdry-running-leggings-with-contrast-panel/p/441121488_jetblack",
         "Women",
         "Westernwear"
        ]
       ],
       "shape": {
        "columns": 9,
        "rows": 3
       }
      },
      "text/html": [
       "<div>\n",
       "<style scoped>\n",
       "    .dataframe tbody tr th:only-of-type {\n",
       "        vertical-align: middle;\n",
       "    }\n",
       "\n",
       "    .dataframe tbody tr th {\n",
       "        vertical-align: top;\n",
       "    }\n",
       "\n",
       "    .dataframe thead th {\n",
       "        text-align: right;\n",
       "    }\n",
       "</style>\n",
       "<table border=\"1\" class=\"dataframe\">\n",
       "  <thead>\n",
       "    <tr style=\"text-align: right;\">\n",
       "      <th></th>\n",
       "      <th>Brand</th>\n",
       "      <th>Description</th>\n",
       "      <th>Image_URL</th>\n",
       "      <th>Product_ID</th>\n",
       "      <th>Discount_Price (in Rs.)</th>\n",
       "      <th>Original_Price (in Rs.)</th>\n",
       "      <th>Product_URL</th>\n",
       "      <th>Category_by_gender</th>\n",
       "      <th>Category</th>\n",
       "    </tr>\n",
       "  </thead>\n",
       "  <tbody>\n",
       "    <tr>\n",
       "      <th>10864</th>\n",
       "      <td>john-players</td>\n",
       "      <td>Slim Fit Shirt with Patch Pocket</td>\n",
       "      <td>https://assets.ajio.com/medias/sys_master/root...</td>\n",
       "      <td>4.411300e+11</td>\n",
       "      <td>525</td>\n",
       "      <td>1,049</td>\n",
       "      <td>https://trends.ajio.com/john-players-slim-fit-...</td>\n",
       "      <td>Men</td>\n",
       "      <td>Topwear</td>\n",
       "    </tr>\n",
       "    <tr>\n",
       "      <th>4092</th>\n",
       "      <td>john-players-jeans</td>\n",
       "      <td>Mid-Wash Slim Jeans</td>\n",
       "      <td>https://assets.ajio.com/medias/sys_master/root...</td>\n",
       "      <td>4.411390e+11</td>\n",
       "      <td>2,299</td>\n",
       "      <td>2,299</td>\n",
       "      <td>https://trends.ajio.com/john-players-jeans-mid...</td>\n",
       "      <td>Men</td>\n",
       "      <td>Bottomwear</td>\n",
       "    </tr>\n",
       "    <tr>\n",
       "      <th>29007</th>\n",
       "      <td>performax</td>\n",
       "      <td>Quickdry Running Leggings with Contrast Panel</td>\n",
       "      <td>https://assets.ajio.com/medias/sys_master/root...</td>\n",
       "      <td>4.411210e+11</td>\n",
       "      <td>450</td>\n",
       "      <td>1,499</td>\n",
       "      <td>https://trends.ajio.com/performax-quickdry-run...</td>\n",
       "      <td>Women</td>\n",
       "      <td>Westernwear</td>\n",
       "    </tr>\n",
       "  </tbody>\n",
       "</table>\n",
       "</div>"
      ],
      "text/plain": [
       "                    Brand                                    Description  \\\n",
       "10864        john-players               Slim Fit Shirt with Patch Pocket   \n",
       "4092   john-players-jeans                            Mid-Wash Slim Jeans   \n",
       "29007           performax  Quickdry Running Leggings with Contrast Panel   \n",
       "\n",
       "                                               Image_URL    Product_ID  \\\n",
       "10864  https://assets.ajio.com/medias/sys_master/root...  4.411300e+11   \n",
       "4092   https://assets.ajio.com/medias/sys_master/root...  4.411390e+11   \n",
       "29007  https://assets.ajio.com/medias/sys_master/root...  4.411210e+11   \n",
       "\n",
       "      Discount_Price (in Rs.) Original_Price (in Rs.)  \\\n",
       "10864                     525                   1,049   \n",
       "4092                    2,299                   2,299   \n",
       "29007                     450                   1,499   \n",
       "\n",
       "                                             Product_URL Category_by_gender  \\\n",
       "10864  https://trends.ajio.com/john-players-slim-fit-...                Men   \n",
       "4092   https://trends.ajio.com/john-players-jeans-mid...                Men   \n",
       "29007  https://trends.ajio.com/performax-quickdry-run...              Women   \n",
       "\n",
       "          Category  \n",
       "10864      Topwear  \n",
       "4092    Bottomwear  \n",
       "29007  Westernwear  "
      ]
     },
     "execution_count": 4,
     "metadata": {},
     "output_type": "execute_result"
    }
   ],
   "source": [
    "df.sample(3)"
   ]
  },
  {
   "cell_type": "code",
   "execution_count": 5,
   "metadata": {},
   "outputs": [
    {
     "name": "stdout",
     "output_type": "stream",
     "text": [
      "Column = Brand, Number of Unique Values = 191\n",
      "Unique Values = ['performax', 'teamspirit', 'puma', 'dnmx', 'proline', 'aero-jeans', 'lag', 'fila', 'cross-trekkers', 'allen-solly', 'skechers', 'airwalk', 'umbro', 'dexter', 'saucony', 'monza', 'chromozome', 'gola', 'netplay', 'john-players-jeans', 'john-players', 'lee-cooper', 'ecko', 'denizen-from-levis', 'sin', 'produkt-by-jack-jones', 'duke', 'altheory-sport', 'jockey', 'octave', 'altheory', 'network', 'disney', 'warner-brothers', 'ecko-unltd', 'indian-terrain', 'uniquest', 'monte-carlo', 'only-vimal-apparel', 'parx', 'killer', 'first-class', 'basics', 'ajio', 'u-s-polo-assn-', 'indigo-nation', 'crimsoune-club', 'pepe-jeans', 'integriti', 'monte-bianco', 'wrangler', 'arrow', 'christofano', 'frisbee', 'woodland', 'schumann', 'crocs', 'adidas', 'inblu', 'schumann-premium', 'buckaroo', 'hunters-bay', 'clarks', 'id', 'reebok', 'nike', 'attilio', 'nez', 'louis-philippe', 'red-chief', 'alberto-torresi', 'egoss', 'christofano-premium', 'wildcraft', 'ruosh', 'dmi', 'hiattitude', 'hunter-s-bay', 'mardi-gras', 'k-swiss', 'florsheim', 'rugged-outback', 'lotto', 'franco-leone', 'valentino', 'hanes', 'graviti', 'onn', 'other-characters', 'samav', 'jp-jeans', 'turtle', 'pureza', 'john-players-select', 'oxemberg', 'classic-polo', 'rio', 'city-sneaks', 'recap', 'outryt-sport', 'enamor', 'flying-machine-womens', 'awd', 'avaasa-mix-n-match', 'fusion', 'siyahi', 'go-colors', 'avaasa-set', 'w', 'juniper', 'aurelia', 'biba', 'svrnaa', 'rangriti', 'poetic-piyani', 'chhabra-555', 'ashmita', 'aksk-creation', 'swadesh', 'nv-bhandar', 'vala-s', 'disha', 'namah', 'varja', 'vivitka', 'avaasa', 'rimaya', 'rss', 'srm-fashion', 'anukta', 'ira-soleil', 'nirali', 'pal-fashions', 'nizam', 'teej', 'poshaak', 'shakuntalam-s', 'mithi-mirchi', 'hk-colours-of-fashion', 'jadu', 'rivaj', 'jublee', 'jashn', 'gaami', 'urban-style', 'trends', 'mix-fab', 'be-indi', 'hi-attitude', 'labella', 'catwalk', 'fioni', 'comfort-plus', 'kneetoes', 'montego-bay-club', 'viviana', 'dfx', 'brash', 'sanlee', 'ipanema', 'ceriz', 'zaxy', 'global-step', 'lower-east-side', 'awb', 'bon-bon', 'lucy-vegona', 'monrow', 'fig', 'aero-jeans-womens', 'denizen-womens', 'madame', 'ftwe', 'anonymous-co', 'ayaany', 'kraus', 'crimsoune-club-women', 'avaasa-workwear', 'triumph', 'enamor-sleepwear', 'iscenery-by-vero-moda', 'jdy-by-only', 'lee-cooper-women', 'hushh', 'outryt', 'species', 'duke-women-s', 'jealous-21', '109-f', 'opt', 'monte-carlo-ladies']\n",
      "\n",
      "Column = Category, Number of Unique Values = 9\n",
      "Unique Values = ['Activewear', 'Bottomwear', 'Footwear', 'Innerwear', 'Topwear', 'Ethnicwear', 'Fusionwear', 'Lingerie', 'Westernwear']\n",
      "\n",
      "Column = Category_by_gender, Number of Unique Values = 2\n",
      "Unique Values = ['Men', 'Women']\n",
      "\n"
     ]
    }
   ],
   "source": [
    "def column_info(df,column):\n",
    "    unique = df[column].unique().tolist()\n",
    "    print(f\"Column = {column}, Number of Unique Values = {len(unique)}\\nUnique Values = {unique}\\n\")\n",
    "\n",
    "for column in ['Brand','Category','Category_by_gender']:\n",
    "    column_info(df,column)"
   ]
  },
  {
   "cell_type": "code",
   "execution_count": 6,
   "metadata": {},
   "outputs": [
    {
     "data": {
      "text/plain": [
       "{'performax': 3028,\n",
       " 'teamspirit': 1908,\n",
       " 'dnmx': 1757,\n",
       " 'netplay': 1698,\n",
       " 'avaasa-mix-n-match': 1507,\n",
       " 'john-players': 1224,\n",
       " 'hi-attitude': 1191,\n",
       " 'w': 1179,\n",
       " 'fig': 1110,\n",
       " 'lee-cooper': 927,\n",
       " 'ecko': 849,\n",
       " 'aurelia': 842,\n",
       " 'rio': 753,\n",
       " 'john-players-jeans': 664,\n",
       " 'ajio': 529,\n",
       " 'christofano': 525,\n",
       " 'schumann': 516,\n",
       " 'kraus': 510,\n",
       " 'biba': 485,\n",
       " 'duke': 429,\n",
       " 'frisbee': 418,\n",
       " 'fusion': 399,\n",
       " 'aero-jeans': 336,\n",
       " 'jdy-by-only': 327,\n",
       " 'siyahi': 305,\n",
       " 'anonymous-co': 302,\n",
       " 'iscenery-by-vero-moda': 286,\n",
       " 'sin': 262,\n",
       " 'indian-terrain': 258,\n",
       " 'altheory': 239,\n",
       " 'aero-jeans-womens': 236,\n",
       " 'rangriti': 230,\n",
       " 'recap': 211,\n",
       " 'airwalk': 201,\n",
       " 'produkt-by-jack-jones': 200,\n",
       " 'avaasa-set': 192,\n",
       " 'schumann-premium': 179,\n",
       " 'only-vimal-apparel': 174,\n",
       " 'outryt': 171,\n",
       " 'denizen-from-levis': 161,\n",
       " 'clarks': 152,\n",
       " 'fioni': 148,\n",
       " 'aksk-creation': 144,\n",
       " 'altheory-sport': 143,\n",
       " 'svrnaa': 140,\n",
       " 'inblu': 138,\n",
       " 'proline': 132,\n",
       " 'madame': 128,\n",
       " 'u-s-polo-assn-': 126,\n",
       " 'ceriz': 124,\n",
       " 'denizen-womens': 120,\n",
       " 'killer': 115,\n",
       " 'jockey': 108,\n",
       " 'catwalk': 101,\n",
       " 'enamor': 101,\n",
       " 'uniquest': 99,\n",
       " 'poetic-piyani': 97,\n",
       " 'disney': 86,\n",
       " 'hunters-bay': 82,\n",
       " 'chhabra-555': 81,\n",
       " 'juniper': 80,\n",
       " 'species': 76,\n",
       " 'sanlee': 75,\n",
       " 'crimsoune-club': 74,\n",
       " 'indigo-nation': 74,\n",
       " 'fila': 71,\n",
       " 'duke-women-s': 70,\n",
       " 'ipanema': 70,\n",
       " 'puma': 69,\n",
       " 'nv-bhandar': 67,\n",
       " 'umbro': 65,\n",
       " 'go-colors': 63,\n",
       " 'woodland': 63,\n",
       " 'vivitka': 58,\n",
       " 'swadesh': 57,\n",
       " 'nez': 55,\n",
       " 'cross-trekkers': 51,\n",
       " 'global-step': 49,\n",
       " 'brash': 48,\n",
       " 'kneetoes': 47,\n",
       " 'lee-cooper-women': 44,\n",
       " 'id': 43,\n",
       " 'ecko-unltd': 43,\n",
       " 'dfx': 42,\n",
       " 'montego-bay-club': 40,\n",
       " 'buckaroo': 40,\n",
       " 'first-class': 39,\n",
       " 'warner-brothers': 39,\n",
       " 'red-chief': 39,\n",
       " 'network': 36,\n",
       " 'viviana': 35,\n",
       " 'ashmita': 34,\n",
       " 'labella': 34,\n",
       " 'comfort-plus': 33,\n",
       " 'monte-carlo': 31,\n",
       " 'allen-solly': 30,\n",
       " 'skechers': 24,\n",
       " 'anukta': 24,\n",
       " 'avaasa': 23,\n",
       " 'ftwe': 22,\n",
       " 'namah': 22,\n",
       " 'basics': 22,\n",
       " 'crocs': 22,\n",
       " 'varja': 20,\n",
       " 'vala-s': 20,\n",
       " 'other-characters': 19,\n",
       " 'parx': 16,\n",
       " 'trends': 15,\n",
       " 'attilio': 15,\n",
       " 'outryt-sport': 14,\n",
       " 'ira-soleil': 14,\n",
       " 'disha': 14,\n",
       " 'city-sneaks': 13,\n",
       " 'jashn': 13,\n",
       " 'lower-east-side': 11,\n",
       " 'pepe-jeans': 11,\n",
       " 'rss': 10,\n",
       " 'poshaak': 9,\n",
       " 'teej': 9,\n",
       " 'alberto-torresi': 9,\n",
       " 'dexter': 9,\n",
       " 'gola': 8,\n",
       " 'lag': 8,\n",
       " 'jp-jeans': 8,\n",
       " 'egoss': 8,\n",
       " 'adidas': 7,\n",
       " 'zaxy': 7,\n",
       " 'nirali': 7,\n",
       " 'k-swiss': 7,\n",
       " 'louis-philippe': 7,\n",
       " 'samav': 6,\n",
       " 'lucy-vegona': 6,\n",
       " 'be-indi': 6,\n",
       " 'hushh': 6,\n",
       " 'wildcraft': 5,\n",
       " 'crimsoune-club-women': 4,\n",
       " 'christofano-premium': 4,\n",
       " 'hanes': 4,\n",
       " 'reebok': 4,\n",
       " 'octave': 4,\n",
       " 'chromozome': 4,\n",
       " 'mardi-gras': 3,\n",
       " 'pureza': 3,\n",
       " 'john-players-select': 3,\n",
       " 'mix-fab': 3,\n",
       " 'gaami': 3,\n",
       " 'shakuntalam-s': 3,\n",
       " 'triumph': 3,\n",
       " 'florsheim': 3,\n",
       " 'lotto': 3,\n",
       " 'hunter-s-bay': 3,\n",
       " 'ruosh': 3,\n",
       " 'awd': 3,\n",
       " 'opt': 2,\n",
       " '109-f': 2,\n",
       " 'saucony': 2,\n",
       " 'monza': 2,\n",
       " 'monte-carlo-ladies': 2,\n",
       " 'monte-bianco': 2,\n",
       " 'ayaany': 2,\n",
       " 'onn': 2,\n",
       " 'turtle': 2,\n",
       " 'enamor-sleepwear': 2,\n",
       " 'jealous-21': 2,\n",
       " 'pal-fashions': 2,\n",
       " 'flying-machine-womens': 2,\n",
       " 'graviti': 2,\n",
       " 'oxemberg': 2,\n",
       " 'nizam': 2,\n",
       " 'srm-fashion': 2,\n",
       " 'dmi': 2,\n",
       " 'hiattitude': 2,\n",
       " 'rivaj': 2,\n",
       " 'arrow': 1,\n",
       " 'integriti': 1,\n",
       " 'wrangler': 1,\n",
       " 'classic-polo': 1,\n",
       " 'rimaya': 1,\n",
       " 'valentino': 1,\n",
       " 'nike': 1,\n",
       " 'franco-leone': 1,\n",
       " 'rugged-outback': 1,\n",
       " 'hk-colours-of-fashion': 1,\n",
       " 'urban-style': 1,\n",
       " 'mithi-mirchi': 1,\n",
       " 'jadu': 1,\n",
       " 'jublee': 1,\n",
       " 'monrow': 1,\n",
       " 'bon-bon': 1,\n",
       " 'awb': 1,\n",
       " 'avaasa-workwear': 1}"
      ]
     },
     "execution_count": 6,
     "metadata": {},
     "output_type": "execute_result"
    }
   ],
   "source": [
    "brand_count=df.Brand.value_counts().to_dict()\n",
    "brand_count"
   ]
  },
  {
   "cell_type": "code",
   "execution_count": 7,
   "metadata": {},
   "outputs": [
    {
     "data": {
      "text/plain": [
       "191"
      ]
     },
     "execution_count": 7,
     "metadata": {},
     "output_type": "execute_result"
    }
   ],
   "source": [
    "len(brand_count)"
   ]
  },
  {
   "cell_type": "code",
   "execution_count": 12,
   "metadata": {},
   "outputs": [
    {
     "name": "stdout",
     "output_type": "stream",
     "text": [
      "{'global-step': 49, 'brash': 48, 'kneetoes': 47, 'lee-cooper-women': 44, 'id': 43, 'ecko-unltd': 43, 'dfx': 42, 'montego-bay-club': 40, 'buckaroo': 40, 'first-class': 39, 'warner-brothers': 39, 'red-chief': 39, 'network': 36, 'viviana': 35, 'ashmita': 34, 'labella': 34, 'comfort-plus': 33, 'monte-carlo': 31, 'allen-solly': 30, 'skechers': 24, 'anukta': 24, 'avaasa': 23, 'ftwe': 22, 'namah': 22, 'basics': 22, 'crocs': 22, 'varja': 20, 'vala-s': 20, 'other-characters': 19, 'parx': 16, 'trends': 15, 'attilio': 15, 'outryt-sport': 14, 'ira-soleil': 14, 'disha': 14, 'city-sneaks': 13, 'jashn': 13, 'lower-east-side': 11, 'pepe-jeans': 11, 'rss': 10, 'poshaak': 9, 'teej': 9, 'alberto-torresi': 9, 'dexter': 9, 'gola': 8, 'lag': 8, 'jp-jeans': 8, 'egoss': 8, 'adidas': 7, 'zaxy': 7, 'nirali': 7, 'k-swiss': 7, 'louis-philippe': 7, 'samav': 6, 'lucy-vegona': 6, 'be-indi': 6, 'hushh': 6, 'wildcraft': 5, 'crimsoune-club-women': 4, 'christofano-premium': 4, 'hanes': 4, 'reebok': 4, 'octave': 4, 'chromozome': 4, 'mardi-gras': 3, 'pureza': 3, 'john-players-select': 3, 'mix-fab': 3, 'gaami': 3, 'shakuntalam-s': 3, 'triumph': 3, 'florsheim': 3, 'lotto': 3, 'hunter-s-bay': 3, 'ruosh': 3, 'awd': 3, 'opt': 2, '109-f': 2, 'saucony': 2, 'monza': 2, 'monte-carlo-ladies': 2, 'monte-bianco': 2, 'ayaany': 2, 'onn': 2, 'turtle': 2, 'enamor-sleepwear': 2, 'jealous-21': 2, 'pal-fashions': 2, 'flying-machine-womens': 2, 'graviti': 2, 'oxemberg': 2, 'nizam': 2, 'srm-fashion': 2, 'dmi': 2, 'hiattitude': 2, 'rivaj': 2, 'arrow': 1, 'integriti': 1, 'wrangler': 1, 'classic-polo': 1, 'rimaya': 1, 'valentino': 1, 'nike': 1, 'franco-leone': 1, 'rugged-outback': 1, 'hk-colours-of-fashion': 1, 'urban-style': 1, 'mithi-mirchi': 1, 'jadu': 1, 'jublee': 1, 'monrow': 1, 'bon-bon': 1, 'awb': 1, 'avaasa-workwear': 1} \n",
      " 114\n"
     ]
    }
   ],
   "source": [
    "count_threshold = 50\n",
    "filtered_brand_count = {key:value for key,value in brand_count.items() if value<=count_threshold}\n",
    "print(filtered_brand_count,'\\n',len(filtered_brand_count))"
   ]
  },
  {
   "cell_type": "code",
   "execution_count": 9,
   "metadata": {},
   "outputs": [
    {
     "data": {
      "text/plain": [
       "<matplotlib.collections.PathCollection at 0x223aa8a5100>"
      ]
     },
     "execution_count": 9,
     "metadata": {},
     "output_type": "execute_result"
    },
    {
     "data": {
      "image/png": "[encoded data removed]",
      "text/plain": [
       "<Figure size 2000x1000 with 1 Axes>"
      ]
     },
     "metadata": {},
     "output_type": "display_data"
    }
   ],
   "source": [
    "plt.figure(figsize=(20,10))\n",
    "plt.scatter(brand_count.keys(),brand_count.values())"
   ]
  }
 ],
 "metadata": {
  "kernelspec": {
   "display_name": "Python 3",
   "language": "python",
   "name": "python3"
  },
  "language_info": {
   "codemirror_mode": {
    "name": "ipython",
    "version": 3
   },
   "file_extension": ".py",
   "mimetype": "text/x-python",
   "name": "python",
   "nbconvert_exporter": "python",
   "pygments_lexer": "ipython3",
   "version": "3.12.3"
  }
 },
 "nbformat": 4,
 "nbformat_minor": 2
}
